{
  "nbformat": 4,
  "nbformat_minor": 0,
  "metadata": {
    "colab": {
      "provenance": [],
      "authorship_tag": "ABX9TyOwrNadcxBNvcCIZqYi/mk5",
      "include_colab_link": true
    },
    "kernelspec": {
      "name": "python3",
      "display_name": "Python 3"
    },
    "language_info": {
      "name": "python"
    }
  },
  "cells": [
    {
      "cell_type": "markdown",
      "metadata": {
        "id": "view-in-github",
        "colab_type": "text"
      },
      "source": [
        "<a href=\"https://colab.research.google.com/github/PauliusPadrostis/BootCampWork/blob/master/numpy.ipynb\" target=\"_parent\"><img src=\"https://colab.research.google.com/assets/colab-badge.svg\" alt=\"Open In Colab\"/></a>"
      ]
    },
    {
      "cell_type": "code",
      "execution_count": 2,
      "metadata": {
        "id": "7atmns7tXhxk"
      },
      "outputs": [],
      "source": [
        "import numpy as np"
      ]
    },
    {
      "cell_type": "markdown",
      "source": [
        "---\n",
        "# Create a vector of numbers from 1 to 9"
      ],
      "metadata": {
        "id": "zqFwop-DXw86"
      }
    },
    {
      "cell_type": "code",
      "source": [
        "np.arange(1, 9)"
      ],
      "metadata": {
        "colab": {
          "base_uri": "https://localhost:8080/"
        },
        "id": "u9aGNc6_X1GQ",
        "outputId": "0adfcc10-2636-4f97-e640-2d0d7abdcb1c"
      },
      "execution_count": 5,
      "outputs": [
        {
          "output_type": "execute_result",
          "data": {
            "text/plain": [
              "array([1, 2, 3, 4, 5, 6, 7, 8])"
            ]
          },
          "metadata": {},
          "execution_count": 5
        }
      ]
    },
    {
      "cell_type": "markdown",
      "source": [
        "---\n",
        "# Create a vector of 10 zeros"
      ],
      "metadata": {
        "id": "AILrpVTyYS_-"
      }
    },
    {
      "cell_type": "code",
      "source": [
        "np.zeros(10)"
      ],
      "metadata": {
        "colab": {
          "base_uri": "https://localhost:8080/"
        },
        "id": "80_VhhkEYXNQ",
        "outputId": "7125307b-1432-4049-fa8f-cd6478c89f54"
      },
      "execution_count": 6,
      "outputs": [
        {
          "output_type": "execute_result",
          "data": {
            "text/plain": [
              "array([0., 0., 0., 0., 0., 0., 0., 0., 0., 0.])"
            ]
          },
          "metadata": {},
          "execution_count": 6
        }
      ]
    },
    {
      "cell_type": "markdown",
      "source": [
        "---\n",
        "# Create a vector of 10 ones"
      ],
      "metadata": {
        "id": "8FZ8cco4YiVa"
      }
    },
    {
      "cell_type": "code",
      "source": [
        "np.ones(10)"
      ],
      "metadata": {
        "colab": {
          "base_uri": "https://localhost:8080/"
        },
        "id": "HxOU-BO-Yn5H",
        "outputId": "c18dce17-2546-437e-9357-e67aea0d4ef4"
      },
      "execution_count": 8,
      "outputs": [
        {
          "output_type": "execute_result",
          "data": {
            "text/plain": [
              "array([1., 1., 1., 1., 1., 1., 1., 1., 1., 1.])"
            ]
          },
          "metadata": {},
          "execution_count": 8
        }
      ]
    },
    {
      "cell_type": "markdown",
      "source": [
        "---\n",
        "# Create a vector of 10 fours"
      ],
      "metadata": {
        "id": "zRYvHEY8Yu4t"
      }
    },
    {
      "cell_type": "code",
      "source": [
        "np.ones(10) * 4"
      ],
      "metadata": {
        "colab": {
          "base_uri": "https://localhost:8080/"
        },
        "id": "R4N4Qz6yY1Ch",
        "outputId": "3430d90f-94d8-448c-ef8d-d308997663bf"
      },
      "execution_count": 10,
      "outputs": [
        {
          "output_type": "execute_result",
          "data": {
            "text/plain": [
              "array([4., 4., 4., 4., 4., 4., 4., 4., 4., 4.])"
            ]
          },
          "metadata": {},
          "execution_count": 10
        }
      ]
    },
    {
      "cell_type": "markdown",
      "source": [
        "---\n",
        "# Create a vector of even numbers from 0 to 100"
      ],
      "metadata": {
        "id": "TEd0rrN_ZNJU"
      }
    },
    {
      "cell_type": "code",
      "source": [
        "np.arange(0, 100, 2)"
      ],
      "metadata": {
        "colab": {
          "base_uri": "https://localhost:8080/"
        },
        "id": "-_yDqnz1ZR9K",
        "outputId": "0e148851-35d6-453c-affe-64c67e907372"
      },
      "execution_count": 12,
      "outputs": [
        {
          "output_type": "execute_result",
          "data": {
            "text/plain": [
              "array([ 0,  2,  4,  6,  8, 10, 12, 14, 16, 18, 20, 22, 24, 26, 28, 30, 32,\n",
              "       34, 36, 38, 40, 42, 44, 46, 48, 50, 52, 54, 56, 58, 60, 62, 64, 66,\n",
              "       68, 70, 72, 74, 76, 78, 80, 82, 84, 86, 88, 90, 92, 94, 96, 98])"
            ]
          },
          "metadata": {},
          "execution_count": 12
        }
      ]
    },
    {
      "cell_type": "markdown",
      "source": [
        "---\n",
        "# Create a matrix of 25 members starting at 1 and ending at 25. Assign it to a variable."
      ],
      "metadata": {
        "id": "BH4UWprUZZMR"
      }
    },
    {
      "cell_type": "code",
      "source": [
        "nums = np.arange(1, 26)\n",
        "nums = nums.reshape(5,5)\n",
        "nums"
      ],
      "metadata": {
        "colab": {
          "base_uri": "https://localhost:8080/"
        },
        "id": "4G8eTS1TZeWJ",
        "outputId": "76572eb3-39a1-455c-c627-33f4aa70b166"
      },
      "execution_count": 22,
      "outputs": [
        {
          "output_type": "execute_result",
          "data": {
            "text/plain": [
              "array([[ 1,  2,  3,  4,  5],\n",
              "       [ 6,  7,  8,  9, 10],\n",
              "       [11, 12, 13, 14, 15],\n",
              "       [16, 17, 18, 19, 20],\n",
              "       [21, 22, 23, 24, 25]])"
            ]
          },
          "metadata": {},
          "execution_count": 22
        }
      ]
    },
    {
      "cell_type": "markdown",
      "source": [
        "---\n",
        "# Pull the number 12 from the matrix"
      ],
      "metadata": {
        "id": "rC6M9a0IZoGM"
      }
    },
    {
      "cell_type": "code",
      "source": [
        "nums[2, 1]"
      ],
      "metadata": {
        "colab": {
          "base_uri": "https://localhost:8080/"
        },
        "id": "Zyxp9UQVZuKe",
        "outputId": "a7341b42-3c0d-4c04-b68a-06e659445415"
      },
      "execution_count": 25,
      "outputs": [
        {
          "output_type": "execute_result",
          "data": {
            "text/plain": [
              "12"
            ]
          },
          "metadata": {},
          "execution_count": 25
        }
      ]
    },
    {
      "cell_type": "markdown",
      "source": [
        "---\n",
        "# Extract the last row from the matrix."
      ],
      "metadata": {
        "id": "Bl5062aCZ477"
      }
    },
    {
      "cell_type": "code",
      "source": [
        "nums[4, 0:5]"
      ],
      "metadata": {
        "colab": {
          "base_uri": "https://localhost:8080/"
        },
        "id": "ljE5xzuCZ9r8",
        "outputId": "5859bc0a-cb16-49b8-fd91-0545ab45df48"
      },
      "execution_count": 28,
      "outputs": [
        {
          "output_type": "execute_result",
          "data": {
            "text/plain": [
              "array([21, 22, 23, 24, 25])"
            ]
          },
          "metadata": {},
          "execution_count": 28
        }
      ]
    },
    {
      "cell_type": "markdown",
      "source": [
        "---\n",
        "# Extract the submatrix from the matrix\n",
        "\n",
        "1, 2, 3\n",
        "\n",
        "6, 7, 8\n",
        "\n",
        "11,12,13"
      ],
      "metadata": {
        "id": "gUTjhlXVblVE"
      }
    },
    {
      "cell_type": "code",
      "source": [
        "nums[0:3, 0:3]"
      ],
      "metadata": {
        "colab": {
          "base_uri": "https://localhost:8080/"
        },
        "id": "_j5hB8wdbsHu",
        "outputId": "d7870b9b-c2e7-4a65-b917-fcdcecc5797c"
      },
      "execution_count": 30,
      "outputs": [
        {
          "output_type": "execute_result",
          "data": {
            "text/plain": [
              "array([[ 1,  2,  3],\n",
              "       [ 6,  7,  8],\n",
              "       [11, 12, 13]])"
            ]
          },
          "metadata": {},
          "execution_count": 30
        }
      ]
    },
    {
      "cell_type": "markdown",
      "source": [
        "---\n",
        "# Extract the submatrix from the matrix\n",
        "\n",
        "7,  8,  9,  10\n",
        "\n",
        "12, 13, 14, 15\n",
        "\n",
        "17, 18, 19, 20\n"
      ],
      "metadata": {
        "id": "VMS9jY0Wb57F"
      }
    },
    {
      "cell_type": "code",
      "source": [
        "nums[1:4, 1:5]"
      ],
      "metadata": {
        "colab": {
          "base_uri": "https://localhost:8080/"
        },
        "id": "VKtGklNicFmp",
        "outputId": "ceee5a78-00c7-47eb-f096-9194c60a35d3"
      },
      "execution_count": 36,
      "outputs": [
        {
          "output_type": "execute_result",
          "data": {
            "text/plain": [
              "array([[ 7,  8,  9, 10],\n",
              "       [12, 13, 14, 15],\n",
              "       [17, 18, 19, 20]])"
            ]
          },
          "metadata": {},
          "execution_count": 36
        }
      ]
    },
    {
      "cell_type": "markdown",
      "source": [
        "---\n",
        "# Extract the submatrix from the matrix\n",
        "\n",
        "16, 17, 18\n",
        "\n",
        "21, 22, 23"
      ],
      "metadata": {
        "id": "lUPsZshsdDid"
      }
    },
    {
      "cell_type": "code",
      "source": [
        "nums[3:5, 0:3]"
      ],
      "metadata": {
        "colab": {
          "base_uri": "https://localhost:8080/"
        },
        "id": "9QjCd1Z_dMbc",
        "outputId": "79ba61e4-0713-4c69-f672-ac73e2ad5438"
      },
      "execution_count": 43,
      "outputs": [
        {
          "output_type": "execute_result",
          "data": {
            "text/plain": [
              "array([[16, 17, 18],\n",
              "       [21, 22, 23]])"
            ]
          },
          "metadata": {},
          "execution_count": 43
        }
      ]
    },
    {
      "cell_type": "markdown",
      "source": [
        "---\n",
        "# Create a vector of 20 random values ​​from 0 to 1. Assign to a variable."
      ],
      "metadata": {
        "id": "l-p4TuUndj1w"
      }
    },
    {
      "cell_type": "code",
      "source": [
        "randy = np.random.rand(20)\n",
        "randy"
      ],
      "metadata": {
        "colab": {
          "base_uri": "https://localhost:8080/"
        },
        "id": "0Ae5PEdadpL2",
        "outputId": "cd615378-5d78-467e-9f6b-9bce87582d47"
      },
      "execution_count": 49,
      "outputs": [
        {
          "output_type": "execute_result",
          "data": {
            "text/plain": [
              "array([0.28894259, 0.72503062, 0.08361018, 0.21749693, 0.25009481,\n",
              "       0.1990198 , 0.62720402, 0.78098892, 0.74479885, 0.22771751,\n",
              "       0.00873366, 0.03290063, 0.52909192, 0.3411941 , 0.27657641,\n",
              "       0.5292404 , 0.33567648, 0.97190651, 0.10955311, 0.19448513])"
            ]
          },
          "metadata": {},
          "execution_count": 49
        }
      ]
    },
    {
      "cell_type": "markdown",
      "source": [
        "---\n",
        "# Find the largest value in an array and its index."
      ],
      "metadata": {
        "id": "9qttPmyKed9L"
      }
    },
    {
      "cell_type": "code",
      "source": [
        "randy.max(), randy.argmax()"
      ],
      "metadata": {
        "colab": {
          "base_uri": "https://localhost:8080/"
        },
        "id": "z-smbR-pefal",
        "outputId": "0d477b7d-5f7b-4648-f45f-ae03668d23ec"
      },
      "execution_count": 50,
      "outputs": [
        {
          "output_type": "execute_result",
          "data": {
            "text/plain": [
              "(0.9719065144957296, 17)"
            ]
          },
          "metadata": {},
          "execution_count": 50
        }
      ]
    },
    {
      "cell_type": "markdown",
      "source": [
        "---\n",
        "# Find the smallest value and its index"
      ],
      "metadata": {
        "id": "ursqdyvaerUF"
      }
    },
    {
      "cell_type": "code",
      "source": [
        "randy.min(), randy.argmin()"
      ],
      "metadata": {
        "colab": {
          "base_uri": "https://localhost:8080/"
        },
        "id": "eJzWh9BjeshI",
        "outputId": "6956c121-9cbd-4ce9-9a43-8d5d3edf9000"
      },
      "execution_count": 51,
      "outputs": [
        {
          "output_type": "execute_result",
          "data": {
            "text/plain": [
              "(0.008733661502632994, 10)"
            ]
          },
          "metadata": {},
          "execution_count": 51
        }
      ]
    },
    {
      "cell_type": "markdown",
      "source": [
        "---\n",
        "# Print the data type of this array"
      ],
      "metadata": {
        "id": "6h8c_aCyezaG"
      }
    },
    {
      "cell_type": "code",
      "source": [
        "type(randy[1]), type(randy)"
      ],
      "metadata": {
        "colab": {
          "base_uri": "https://localhost:8080/"
        },
        "id": "bNCl4qq5e5Kf",
        "outputId": "654f434e-7072-4b81-f618-69f189ca9149"
      },
      "execution_count": 56,
      "outputs": [
        {
          "output_type": "execute_result",
          "data": {
            "text/plain": [
              "(numpy.float64, numpy.ndarray)"
            ]
          },
          "metadata": {},
          "execution_count": 56
        }
      ]
    },
    {
      "cell_type": "markdown",
      "source": [
        "---\n",
        "# Create a vector of integer values ​​from 1 to 100. Assign to a variable. Subtract all numbers greater than 90 from it"
      ],
      "metadata": {
        "id": "ZfuwLAl2gPxV"
      }
    },
    {
      "cell_type": "code",
      "source": [
        "numss = np.arange(1, 101)\n",
        "numss_bools = numss > 90\n",
        "numss[numss_bools]"
      ],
      "metadata": {
        "colab": {
          "base_uri": "https://localhost:8080/"
        },
        "id": "3HEFMYZVgUfi",
        "outputId": "fcd93057-8fc8-4e9f-cd2e-c0fd4b2bdccc"
      },
      "execution_count": 73,
      "outputs": [
        {
          "output_type": "execute_result",
          "data": {
            "text/plain": [
              "array([ 91,  92,  93,  94,  95,  96,  97,  98,  99, 100])"
            ]
          },
          "metadata": {},
          "execution_count": 73
        }
      ]
    },
    {
      "cell_type": "markdown",
      "source": [
        "---\n",
        "# Subtract all multiples of 7 from the vector"
      ],
      "metadata": {
        "id": "VKW0qtk4gufT"
      }
    },
    {
      "cell_type": "code",
      "source": [
        "nums_mult = [num % 7 == 0 for num in numss]\n",
        "numss[nums_mult]"
      ],
      "metadata": {
        "colab": {
          "base_uri": "https://localhost:8080/"
        },
        "id": "I_Lop2EKg0ei",
        "outputId": "26ad463a-ace6-4f37-e295-ceedeef7f759"
      },
      "execution_count": 80,
      "outputs": [
        {
          "output_type": "execute_result",
          "data": {
            "text/plain": [
              "array([ 7, 14, 21, 28, 35, 42, 49, 56, 63, 70, 77, 84, 91, 98])"
            ]
          },
          "metadata": {},
          "execution_count": 80
        }
      ]
    },
    {
      "cell_type": "markdown",
      "source": [
        "---\n",
        "# Create the following matrix:\n",
        "\n",
        "array(\n",
        "  \n",
        "        [[0.025, 0.05 , 0.075, 0.1  , 0.125, 0.15 , 0.175, 0.2  ],\n",
        "\n",
        "        [0.225, 0.25 , 0.275, 0.3  , 0.325, 0.35 , 0.375, 0.4  ],\n",
        "\n",
        "        [0.425, 0.45 , 0.475, 0.5  , 0.525, 0.55 , 0.575, 0.6  ],\n",
        "\n",
        "        [0.625, 0.65 , 0.675, 0.7  , 0.725, 0.75 , 0.775, 0.8  ],\n",
        "\n",
        "        [0.825, 0.85 , 0.875, 0.9  , 0.925, 0.95 , 0.975, 1.   ]])\n"
      ],
      "metadata": {
        "id": "z6EQ-hE-k1hV"
      }
    },
    {
      "cell_type": "code",
      "source": [
        "x = np.arange(0.025, 1.025, 0.025)\n",
        "x.reshape(5, 8)"
      ],
      "metadata": {
        "colab": {
          "base_uri": "https://localhost:8080/"
        },
        "id": "w4DW55c2k4H3",
        "outputId": "135de454-d60e-471c-cf85-16a75b340881"
      },
      "execution_count": 85,
      "outputs": [
        {
          "output_type": "execute_result",
          "data": {
            "text/plain": [
              "array([[0.025, 0.05 , 0.075, 0.1  , 0.125, 0.15 , 0.175, 0.2  ],\n",
              "       [0.225, 0.25 , 0.275, 0.3  , 0.325, 0.35 , 0.375, 0.4  ],\n",
              "       [0.425, 0.45 , 0.475, 0.5  , 0.525, 0.55 , 0.575, 0.6  ],\n",
              "       [0.625, 0.65 , 0.675, 0.7  , 0.725, 0.75 , 0.775, 0.8  ],\n",
              "       [0.825, 0.85 , 0.875, 0.9  , 0.925, 0.95 , 0.975, 1.   ]])"
            ]
          },
          "metadata": {},
          "execution_count": 85
        }
      ]
    },
    {
      "cell_type": "markdown",
      "source": [
        "---\n",
        "# Create the following matrix (whole numbers from 2 to 1000 from which you can get a whole root):\n",
        "\n",
        "array(\n",
        "        \n",
        "        [[  4,   9,  16,  25,  36],\n",
        "\n",
        "        [ 49,  64,  81, 100, 121],\n",
        "\n",
        "        [144, 169, 196, 225, 256],\n",
        "\n",
        "        [289, 324, 361, 400, 441],\n",
        "\n",
        "        [484, 529, 576, 625, 676],\n",
        "\n",
        "        [729, 784, 841, 900, 961]])"
      ],
      "metadata": {
        "id": "rDDjC0kDl62R"
      }
    },
    {
      "cell_type": "code",
      "source": [
        "y = np.arange(2, 1001)"
      ],
      "metadata": {
        "id": "uJd5MqD_mMRr"
      },
      "execution_count": 109,
      "outputs": []
    },
    {
      "cell_type": "code",
      "source": [
        "y_root = np.array([num for num in y if np.sqrt(num).is_integer()])\n",
        "y_reshaped = y_root.reshape(-1, 5)\n",
        "\n",
        "y_reshaped"
      ],
      "metadata": {
        "colab": {
          "base_uri": "https://localhost:8080/"
        },
        "id": "fJRRSwzFo36i",
        "outputId": "a8f48703-672b-4287-d88f-4d7134ad81c8"
      },
      "execution_count": 110,
      "outputs": [
        {
          "output_type": "execute_result",
          "data": {
            "text/plain": [
              "array([[  4,   9,  16,  25,  36],\n",
              "       [ 49,  64,  81, 100, 121],\n",
              "       [144, 169, 196, 225, 256],\n",
              "       [289, 324, 361, 400, 441],\n",
              "       [484, 529, 576, 625, 676],\n",
              "       [729, 784, 841, 900, 961]])"
            ]
          },
          "metadata": {},
          "execution_count": 110
        }
      ]
    }
  ]
}